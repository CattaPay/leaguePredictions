{
 "cells": [
  {
   "cell_type": "code",
   "execution_count": 3,
   "metadata": {},
   "outputs": [],
   "source": [
    "import pandas as pd\n",
    "import numpy as np\n",
    "import xgboost as xgb\n",
    "\n",
    "## NOTE: this model is gonna be bad... not symmetrical, inputs arbitrarily chosen, not enough training data\n",
    "\n",
    "# reading dat\n",
    "dat = pd.read_csv(\"MLData/combined.csv\")\n",
    "\n",
    "# modifying dat to remove character values\n",
    "dat[\"WinAsInt\"] = dat[\"B_Win\"].transform(lambda x: int(x == \"WIN\"))\n",
    "dat = dat.drop(axis = 1, labels = \"B_Win\")"
   ]
  },
  {
   "cell_type": "code",
   "execution_count": 4,
   "metadata": {},
   "outputs": [
    {
     "name": "stdout",
     "output_type": "stream",
     "text": [
      "WinAsInt         1.000000\n",
      "B_TOP_GPM        0.181217\n",
      "R_BOT_Deaths     0.166334\n",
      "B_BOT_Assists    0.154807\n",
      "B_BOT_KAPM       0.151259\n",
      "                   ...   \n",
      "R_JNG_GPM       -0.157942\n",
      "R_MID_KAPM      -0.167307\n",
      "R_WinNum        -0.170781\n",
      "R_MID_GD15      -0.172071\n",
      "R_Kills         -0.183026\n",
      "Name: WinAsInt, Length: 153, dtype: float64\n"
     ]
    }
   ],
   "source": [
    "correlations = dat.corr()[\"WinAsInt\"].sort_values(ascending = False)\n",
    "\n",
    "print(correlations)"
   ]
  },
  {
   "cell_type": "code",
   "execution_count": 5,
   "metadata": {},
   "outputs": [
    {
     "name": "stdout",
     "output_type": "stream",
     "text": [
      "R_MID_Assists   -0.133319\n",
      "R_JNG_CSM       -0.135401\n",
      "R_JNG_Kills     -0.137047\n",
      "R_Mid_Plates    -0.140487\n",
      "R_BOT_GPM       -0.142660\n",
      "R_Barons        -0.147552\n",
      "R_MID_Kills     -0.147868\n",
      "R_Towers        -0.148539\n",
      "R_JNG_KAPM      -0.148710\n",
      "R_JNG_GPM       -0.157942\n",
      "R_MID_KAPM      -0.167307\n",
      "R_WinNum        -0.170781\n",
      "R_MID_GD15      -0.172071\n",
      "R_Kills         -0.183026\n",
      "Name: WinAsInt, dtype: float64\n",
      "\n",
      "WinAsInt         1.000000\n",
      "B_TOP_GPM        0.181217\n",
      "R_BOT_Deaths     0.166334\n",
      "B_BOT_Assists    0.154807\n",
      "B_BOT_KAPM       0.151259\n",
      "B_TOP_Kills      0.146534\n",
      "B_JNG_KAPM       0.145647\n",
      "B_Kills          0.143275\n",
      "B_BOT_XPD15      0.139848\n",
      "B_WinNum         0.137614\n",
      "B_MID_VSPM       0.135714\n",
      "B_TOP_CSM        0.133283\n",
      "B_BOT_CSD15      0.130068\n",
      "Name: WinAsInt, dtype: float64\n"
     ]
    }
   ],
   "source": [
    "# thinning out dataset\n",
    "print(correlations[correlations < -0.13])\n",
    "print()\n",
    "print(correlations[correlations > 0.13])"
   ]
  },
  {
   "cell_type": "code",
   "execution_count": 2,
   "metadata": {},
   "outputs": [
    {
     "ename": "NameError",
     "evalue": "name 'correlations' is not defined",
     "output_type": "error",
     "traceback": [
      "\u001b[1;31m---------------------------------------------------------------------------\u001b[0m",
      "\u001b[1;31mNameError\u001b[0m                                 Traceback (most recent call last)",
      "Cell \u001b[1;32mIn[2], line 1\u001b[0m\n\u001b[1;32m----> 1\u001b[0m input_vars \u001b[38;5;241m=\u001b[39m \u001b[43mcorrelations\u001b[49m[correlations \u001b[38;5;241m<\u001b[39m \u001b[38;5;241m-\u001b[39m\u001b[38;5;241m0.13\u001b[39m]\u001b[38;5;241m.\u001b[39mindex\u001b[38;5;241m.\u001b[39mto_list() \u001b[38;5;241m+\u001b[39m correlations[correlations \u001b[38;5;241m>\u001b[39m \u001b[38;5;241m0.13\u001b[39m]\u001b[38;5;241m.\u001b[39mindex\u001b[38;5;241m.\u001b[39mto_list()\n\u001b[0;32m      2\u001b[0m training_dat \u001b[38;5;241m=\u001b[39m dat[input_vars]\n\u001b[0;32m      3\u001b[0m \u001b[38;5;66;03m# thinned out dataset actually substantially worse at predicting than the full one is\u001b[39;00m\n\u001b[0;32m      4\u001b[0m \u001b[38;5;66;03m# training_dat = dat\u001b[39;00m\n",
      "\u001b[1;31mNameError\u001b[0m: name 'correlations' is not defined"
     ]
    }
   ],
   "source": [
    "input_vars = correlations[correlations < -0.13].index.to_list() + correlations[correlations > 0.13].index.to_list()\n",
    "training_dat = dat[input_vars]\n",
    "# thinned out dataset actually substantially worse at predicting than the full one is\n",
    "# training_dat = dat\n",
    "print(training_dat)\n",
    "\n",
    "# split test and training data\n",
    "test_dat = training_dat.sample(frac = 0)\n",
    "training_dat = training_dat.drop(test_dat.index)\n",
    "\n",
    "# setting up for xgboost\n",
    "training_label = training_dat[\"WinAsInt\"]\n",
    "training_dat = training_dat.drop(axis = 1, labels = \"WinAsInt\")\n",
    "test_label = test_dat[\"WinAsInt\"]\n",
    "test_dat = test_dat.drop(axis = 1, labels = \"WinAsInt\")\n",
    "\n",
    "dtrain = xgb.DMatrix(data = training_dat, label = training_label)\n",
    "dtest = xgb.DMatrix(data = test_dat, label = test_label)\n",
    "\n",
    "print(training_dat.shape)\n",
    "print(test_dat.shape)\n"
   ]
  },
  {
   "cell_type": "code",
   "execution_count": 44,
   "metadata": {},
   "outputs": [
    {
     "name": "stdout",
     "output_type": "stream",
     "text": [
      "[0]\ttrain-auc:0.68431\ttest-auc:nan\n",
      "[1]\ttrain-auc:0.69688\ttest-auc:nan\n",
      "[2]\ttrain-auc:0.73390\ttest-auc:nan\n",
      "[3]\ttrain-auc:0.74110\ttest-auc:nan\n",
      "[4]\ttrain-auc:0.76009\ttest-auc:nan\n",
      "[5]\ttrain-auc:0.76444\ttest-auc:nan\n",
      "[6]\ttrain-auc:0.76840\ttest-auc:nan\n",
      "[7]\ttrain-auc:0.77253\ttest-auc:nan\n",
      "[8]\ttrain-auc:0.77553\ttest-auc:nan\n",
      "[9]\ttrain-auc:0.77488\ttest-auc:nan\n"
     ]
    },
    {
     "name": "stderr",
     "output_type": "stream",
     "text": [
      "c:\\Users\\carte\\AppData\\Local\\Programs\\Python\\Python311\\Lib\\site-packages\\xgboost\\core.py:727: FutureWarning: Pass `evals` as keyword args.\n",
      "  warnings.warn(msg, FutureWarning)\n",
      "c:\\Users\\carte\\AppData\\Local\\Programs\\Python\\Python311\\Lib\\site-packages\\xgboost\\core.py:160: UserWarning: [22:19:34] WARNING: C:\\buildkite-agent\\builds\\buildkite-windows-cpu-autoscaling-group-i-0b3782d1791676daf-1\\xgboost\\xgboost-ci-windows\\src\\metric\\auc.cc:320: Dataset is empty, or contains only positive or negative samples.\n",
      "  warnings.warn(smsg, UserWarning)\n"
     ]
    }
   ],
   "source": [
    "param = {'max_depth': 2, 'eta': 0.1, 'objective': 'binary:logistic'}\n",
    "param['eval_metric'] = 'auc'\n",
    "\n",
    "num_round = 10\n",
    "evallist = [(dtrain, \"train\"), (dtest, \"test\")]\n",
    "bst = xgb.train(param, dtrain, num_round, evallist)"
   ]
  },
  {
   "cell_type": "code",
   "execution_count": 45,
   "metadata": {},
   "outputs": [],
   "source": [
    "#xgb.plot_importance(bst)"
   ]
  },
  {
   "cell_type": "code",
   "execution_count": 46,
   "metadata": {},
   "outputs": [
    {
     "name": "stdout",
     "output_type": "stream",
     "text": [
      "           B_Team         R_Team  Small Model Scores (0.13)\n",
      "0   Team Vitality  Team Heretics                   0.633670\n",
      "1          Fnatic          Rogue                   0.651725\n",
      "2        Team BDS     G2 Esports                   0.640879\n",
      "3    Karmine Corp         GIANTX                   0.586876\n",
      "4   MAD Lions KOI      SK Gaming                   0.668630\n",
      "5   Team Vitality       Team BDS                   0.526131\n",
      "6   Team Heretics          Rogue                   0.628600\n",
      "7          Fnatic   Karmine Corp                   0.628128\n",
      "8          GIANTX      SK Gaming                   0.611577\n",
      "9   MAD Lions KOI     G2 Esports                   0.518184\n",
      "10          Rogue       Team BDS                   0.447782\n",
      "11      SK Gaming  Team Vitality                   0.549669\n",
      "12         GIANTX  MAD Lions KOI                   0.504997\n",
      "13  Team Heretics         Fnatic                   0.537114\n",
      "14     G2 Esports   Karmine Corp                   0.628128\n",
      "15      SK Gaming       Team BDS                   0.472111\n",
      "16         GIANTX         Fnatic                   0.537114\n",
      "17     G2 Esports  Team Heretics                   0.633670\n",
      "18  MAD Lions KOI  Team Vitality                   0.582716\n",
      "19   Karmine Corp          Rogue                   0.609508\n",
      "20         GIANTX       Team BDS                   0.537114\n",
      "21          Rogue  Team Vitality                   0.557274\n",
      "22  MAD Lions KOI   Karmine Corp                   0.645447\n",
      "23  Team Heretics      SK Gaming                   0.633830\n",
      "24         Fnatic     G2 Esports                   0.560285\n",
      "25       Team BDS  Team Heretics                   0.712160\n",
      "26  Team Vitality         Fnatic                   0.526131\n",
      "27     G2 Esports         GIANTX                   0.633670\n",
      "28          Rogue  MAD Lions KOI                   0.499457\n",
      "29      SK Gaming   Karmine Corp                   0.556603\n"
     ]
    }
   ],
   "source": [
    "prediction_data = pd.read_csv(\"MLData/LEC_2023_Spring_Test.csv\")\n",
    "teams = prediction_data[[\"B_Team\", \"R_Team\"]]\n",
    "prediction_data = prediction_data.drop(axis = 1, labels = [\"B_Team\", \"R_Team\"])\n",
    "\n",
    "input_vars.remove(\"WinAsInt\")\n",
    "\n",
    "prediction_data = prediction_data[input_vars]\n",
    "\n",
    "dpred = xgb.DMatrix(prediction_data)\n",
    "\n",
    "scores = bst.predict(dpred)\n",
    "teams[\"Small Model Scores (0.13)\"] = scores\n",
    "\n",
    "print(teams)"
   ]
  },
  {
   "cell_type": "code",
   "execution_count": 47,
   "metadata": {},
   "outputs": [
    {
     "name": "stdout",
     "output_type": "stream",
     "text": [
      "      R_SUP_CS   R_MID_GPM  B_TOP_Deaths  B_BOT_VSPM  R_TOP_KAPM  R_MID_CSD15  \\\n",
      "0    34.894737  395.105263           NaN         NaN    0.208421     7.789474   \n",
      "1    32.421053  389.250000      2.684211         NaN         NaN     3.300000   \n",
      "2          NaN         NaN      1.666667    1.120000    0.240556          NaN   \n",
      "3    39.090909  417.666667      2.888889    1.221053    0.258889    -3.111111   \n",
      "4    30.647059  375.470588           NaN         NaN         NaN    -4.588235   \n",
      "..         ...         ...           ...         ...         ...          ...   \n",
      "361  37.700000  384.100000      3.222222    1.533333    0.201000     3.100000   \n",
      "362  23.333333         NaN      2.444444    1.645556    0.154444          NaN   \n",
      "363  29.333333  433.000000      2.555556    1.326667    0.245556    19.111111   \n",
      "364  30.111111  421.555556      3.700000         NaN    0.396667    -2.444444   \n",
      "365  27.111111  392.000000      2.666667    1.557778    0.240000    -3.555556   \n",
      "\n",
      "     R_TOP_Assists  R_BOT_KAPM  R_Drakes  R_Top_Plates  ...  B_TOP_KAPM  \\\n",
      "0         4.157895    0.267368  2.421053      2.111111  ...         NaN   \n",
      "1              NaN    0.228421  2.550000      1.000000  ...    0.181053   \n",
      "2         5.722222    0.247222  1.777778      2.833333  ...    0.266667   \n",
      "3         5.444444    0.323333  2.833333      1.888889  ...    0.165000   \n",
      "4              NaN    0.193529  1.888889      1.166667  ...         NaN   \n",
      "..             ...         ...       ...           ...  ...         ...   \n",
      "361       4.500000    0.258000  2.100000      1.200000  ...    0.233333   \n",
      "362       3.222222    0.207778  1.888889      1.777778  ...    0.316667   \n",
      "363       5.111111    0.344444  2.333333      1.666667  ...    0.161111   \n",
      "364       6.555556    0.412222  3.111111      1.777778  ...    0.263000   \n",
      "365       4.777778         NaN  2.000000      1.444444  ...    0.220000   \n",
      "\n",
      "     B_JNG_Kills  B_SUP_VSPM  B_Gold_Num  B_Mid_Plates  B_BOT_GD15  B_Drakes  \\\n",
      "0       2.777778         NaN   60.483333      0.833333         NaN  2.611111   \n",
      "1       2.578947    2.945263   59.126316      1.000000         NaN  2.105263   \n",
      "2       3.166667    3.026471   63.938889      1.333333  130.294118  3.222222   \n",
      "3            NaN         NaN   55.822222      1.750000 -155.315789  1.944444   \n",
      "4       1.722222         NaN   60.522222      0.764706         NaN  2.722222   \n",
      "..           ...         ...         ...           ...         ...       ...   \n",
      "361     2.333333    2.988889   65.200000      1.444444  666.666667  3.111111   \n",
      "362          NaN    2.933333   59.822222      0.333333  835.333333  2.888889   \n",
      "363     1.111111    2.827778   60.755556      1.333333 -680.555556  1.555556   \n",
      "364     4.600000    3.041000   62.450000      1.200000         NaN  2.300000   \n",
      "365     3.333333    2.684444   55.511111      0.888889 -425.000000  2.000000   \n",
      "\n",
      "     B_JNG_Assists   B_TOP_DPM  B_MID_Kills  \n",
      "0         7.055556         NaN          NaN  \n",
      "1         5.789474  450.315789     2.578947  \n",
      "2         7.888889  446.111111     4.000000  \n",
      "3              NaN  481.666667     2.500000  \n",
      "4         6.111111         NaN     2.777778  \n",
      "..             ...         ...          ...  \n",
      "361       9.111111  511.222222     3.222222  \n",
      "362            NaN  583.222222     2.111111  \n",
      "363       5.666667  571.666667     2.888889  \n",
      "364       8.700000  476.100000     2.000000  \n",
      "365       5.444444  447.444444     3.555556  \n",
      "\n",
      "[366 rows x 57 columns]\n",
      "(366, 56)\n",
      "(0, 56)\n"
     ]
    }
   ],
   "source": [
    "input_vars = correlations[correlations < -0.10].index.to_list() + correlations[correlations > 0.10].index.to_list()\n",
    "training_dat = dat[input_vars]\n",
    "# thinned out dataset actually substantially worse at predicting than the full one is\n",
    "# training_dat = dat\n",
    "print(training_dat)\n",
    "\n",
    "# split test and training data\n",
    "test_dat = training_dat.sample(frac = 0)\n",
    "training_dat = training_dat.drop(test_dat.index)\n",
    "\n",
    "# setting up for xgboost\n",
    "training_label = training_dat[\"WinAsInt\"]\n",
    "training_dat = training_dat.drop(axis = 1, labels = \"WinAsInt\")\n",
    "test_label = test_dat[\"WinAsInt\"]\n",
    "test_dat = test_dat.drop(axis = 1, labels = \"WinAsInt\")\n",
    "\n",
    "dtrain = xgb.DMatrix(data = training_dat, label = training_label)\n",
    "dtest = xgb.DMatrix(data = test_dat, label = test_label)\n",
    "\n",
    "print(training_dat.shape)\n",
    "print(test_dat.shape)"
   ]
  },
  {
   "cell_type": "code",
   "execution_count": 1,
   "metadata": {},
   "outputs": [
    {
     "ename": "NameError",
     "evalue": "name 'dtrain' is not defined",
     "output_type": "error",
     "traceback": [
      "\u001b[1;31m---------------------------------------------------------------------------\u001b[0m",
      "\u001b[1;31mNameError\u001b[0m                                 Traceback (most recent call last)",
      "Cell \u001b[1;32mIn[1], line 5\u001b[0m\n\u001b[0;32m      2\u001b[0m param[\u001b[38;5;124m'\u001b[39m\u001b[38;5;124meval_metric\u001b[39m\u001b[38;5;124m'\u001b[39m] \u001b[38;5;241m=\u001b[39m \u001b[38;5;124m'\u001b[39m\u001b[38;5;124mauc\u001b[39m\u001b[38;5;124m'\u001b[39m\n\u001b[0;32m      4\u001b[0m num_round \u001b[38;5;241m=\u001b[39m \u001b[38;5;241m30\u001b[39m\n\u001b[1;32m----> 5\u001b[0m evallist \u001b[38;5;241m=\u001b[39m [(\u001b[43mdtrain\u001b[49m, \u001b[38;5;124m\"\u001b[39m\u001b[38;5;124mtrain\u001b[39m\u001b[38;5;124m\"\u001b[39m), (dtest, \u001b[38;5;124m\"\u001b[39m\u001b[38;5;124mtest\u001b[39m\u001b[38;5;124m\"\u001b[39m)]\n\u001b[0;32m      6\u001b[0m bst \u001b[38;5;241m=\u001b[39m xgb\u001b[38;5;241m.\u001b[39mtrain(param, dtrain, num_round, evallist)\n",
      "\u001b[1;31mNameError\u001b[0m: name 'dtrain' is not defined"
     ]
    }
   ],
   "source": [
    "param = {'max_depth': 2, 'eta': 0.1, 'objective': 'binary:logistic'}\n",
    "param['eval_metric'] = 'auc'\n",
    "\n",
    "num_round = 30\n",
    "evallist = [(dtrain, \"train\"), (dtest, \"test\")]\n",
    "bst = xgb.train(param, dtrain, num_round, evallist)"
   ]
  },
  {
   "cell_type": "code",
   "execution_count": 49,
   "metadata": {},
   "outputs": [
    {
     "name": "stdout",
     "output_type": "stream",
     "text": [
      "           B_Team         R_Team  Small Model Scores (0.13)  \\\n",
      "0   Team Vitality  Team Heretics                   0.633670   \n",
      "1          Fnatic          Rogue                   0.651725   \n",
      "2        Team BDS     G2 Esports                   0.640879   \n",
      "3    Karmine Corp         GIANTX                   0.586876   \n",
      "4   MAD Lions KOI      SK Gaming                   0.668630   \n",
      "5   Team Vitality       Team BDS                   0.526131   \n",
      "6   Team Heretics          Rogue                   0.628600   \n",
      "7          Fnatic   Karmine Corp                   0.628128   \n",
      "8          GIANTX      SK Gaming                   0.611577   \n",
      "9   MAD Lions KOI     G2 Esports                   0.518184   \n",
      "10          Rogue       Team BDS                   0.447782   \n",
      "11      SK Gaming  Team Vitality                   0.549669   \n",
      "12         GIANTX  MAD Lions KOI                   0.504997   \n",
      "13  Team Heretics         Fnatic                   0.537114   \n",
      "14     G2 Esports   Karmine Corp                   0.628128   \n",
      "15      SK Gaming       Team BDS                   0.472111   \n",
      "16         GIANTX         Fnatic                   0.537114   \n",
      "17     G2 Esports  Team Heretics                   0.633670   \n",
      "18  MAD Lions KOI  Team Vitality                   0.582716   \n",
      "19   Karmine Corp          Rogue                   0.609508   \n",
      "20         GIANTX       Team BDS                   0.537114   \n",
      "21          Rogue  Team Vitality                   0.557274   \n",
      "22  MAD Lions KOI   Karmine Corp                   0.645447   \n",
      "23  Team Heretics      SK Gaming                   0.633830   \n",
      "24         Fnatic     G2 Esports                   0.560285   \n",
      "25       Team BDS  Team Heretics                   0.712160   \n",
      "26  Team Vitality         Fnatic                   0.526131   \n",
      "27     G2 Esports         GIANTX                   0.633670   \n",
      "28          Rogue  MAD Lions KOI                   0.499457   \n",
      "29      SK Gaming   Karmine Corp                   0.556603   \n",
      "\n",
      "    Med Model Scores (0.1)  \n",
      "0                 0.660272  \n",
      "1                 0.704924  \n",
      "2                 0.610929  \n",
      "3                 0.736701  \n",
      "4                 0.765355  \n",
      "5                 0.588428  \n",
      "6                 0.500913  \n",
      "7                 0.658305  \n",
      "8                 0.560043  \n",
      "9                 0.614412  \n",
      "10                0.423960  \n",
      "11                0.428221  \n",
      "12                0.492785  \n",
      "13                0.337037  \n",
      "14                0.727089  \n",
      "15                0.419746  \n",
      "16                0.394785  \n",
      "17                0.739588  \n",
      "18                0.718468  \n",
      "19                0.691132  \n",
      "20                0.398897  \n",
      "21                0.507548  \n",
      "22                0.759243  \n",
      "23                0.448230  \n",
      "24                0.570187  \n",
      "25                0.707428  \n",
      "26                0.523895  \n",
      "27                0.755838  \n",
      "28                0.486382  \n",
      "29                0.530699  "
     ]
    },
    {
     "name": "stdout",
     "output_type": "stream",
     "text": [
      "\n"
     ]
    }
   ],
   "source": [
    "prediction_data = pd.read_csv(\"MLData/LEC_2023_Spring_Test.csv\")\n",
    "# teams = prediction_data[[\"B_Team\", \"R_Team\"]]\n",
    "prediction_data = prediction_data.drop(axis = 1, labels = [\"B_Team\", \"R_Team\"])\n",
    "\n",
    "input_vars.remove(\"WinAsInt\")\n",
    "\n",
    "prediction_data = prediction_data[input_vars]\n",
    "\n",
    "dpred = xgb.DMatrix(prediction_data)\n",
    "\n",
    "scores = bst.predict(dpred)\n",
    "teams[\"Med Model Scores (0.1)\"] = scores\n",
    "\n",
    "print(teams)"
   ]
  },
  {
   "cell_type": "code",
   "execution_count": 50,
   "metadata": {},
   "outputs": [
    {
     "name": "stdout",
     "output_type": "stream",
     "text": [
      "       B_Kills  B_Towers  B_Drakes  B_Barons  B_Plates  B_Top_Plates  \\\n",
      "0    13.555556  7.444444  2.611111  0.944444  5.055556      2.666667   \n",
      "1    11.684211  6.263158  2.105263  0.894737  6.000000      2.263158   \n",
      "2    15.666667  7.444444  3.222222  0.944444  4.388889      1.444444   \n",
      "3    10.388889  5.222222  1.944444  0.500000  4.250000      1.187500   \n",
      "4    10.611111  6.000000  2.722222  0.611111  4.117647      0.941176   \n",
      "..         ...       ...       ...       ...       ...           ...   \n",
      "361  15.000000  8.222222  3.111111  1.444444  6.222222      2.111111   \n",
      "362  16.777778  8.222222  2.888889  0.888889  5.666667      2.000000   \n",
      "363  10.333333  6.111111  1.555556  0.666667  4.222222      1.777778   \n",
      "364  17.200000  4.800000  2.300000  0.700000  5.000000      2.000000   \n",
      "365  11.888889  5.444444  2.000000  0.555556  3.444444      1.222222   \n",
      "\n",
      "     B_Mid_Plates  B_Bot_Plates  B_Game_Time_s  B_Gold_Num  ...  R_SUP_CSM  \\\n",
      "0        0.833333      1.555556    1909.055556   60.483333  ...   1.057895   \n",
      "1        1.000000      2.736842    1983.210526   59.126316  ...   0.968421   \n",
      "2        1.333333      1.611111    2060.444444   63.938889  ...        NaN   \n",
      "3        1.750000      1.312500    1936.944444   55.822222  ...   1.200000   \n",
      "4        0.764706      2.411765    2053.777778   60.522222  ...   0.870588   \n",
      "..            ...           ...            ...         ...  ...        ...   \n",
      "361      1.444444      2.666667    2151.555556   65.200000  ...   1.160000   \n",
      "362      0.333333      3.333333    1871.000000   59.822222  ...   0.700000   \n",
      "363      1.333333      1.111111    2083.000000   60.755556  ...   0.988889   \n",
      "364      1.200000      1.800000    2100.100000   62.450000  ...   1.033333   \n",
      "365      0.888889      1.333333    1906.000000   55.511111  ...   0.800000   \n",
      "\n",
      "      R_SUP_GPM  R_SUP_VSPM   R_SUP_DPM  R_SUP_KAPM  R_SUP_GD15  R_SUP_CSD15  \\\n",
      "0    226.842105    2.918421  110.105263    0.252632    2.631579     3.105263   \n",
      "1    218.052632    2.365263   97.315789    0.208947  -26.105263    -2.315789   \n",
      "2           NaN         NaN         NaN         NaN         NaN          NaN   \n",
      "3    245.090909    2.816364  140.090909    0.390909  191.090909     2.636364   \n",
      "4    223.588235    2.414706  157.764706    0.218824 -114.941176    -2.235294   \n",
      "..          ...         ...         ...         ...         ...          ...   \n",
      "361  237.100000    2.865000  196.200000    0.226000  -87.700000     7.400000   \n",
      "362  226.222222    2.720000  189.222222    0.214444 -260.111111    -2.333333   \n",
      "363  256.222222    3.246667  180.777778    0.362222    3.444444    -2.222222   \n",
      "364  273.222222    3.544444  320.777778    0.450000  575.666667    -5.222222   \n",
      "365  224.666667    2.948889  147.666667    0.202222 -298.111111    -4.888889   \n",
      "\n",
      "     R_SUP_XPD15  R_SUP_Games  WinAsInt  \n",
      "0     -21.421053         19.0         0  \n",
      "1     170.315789         19.0         0  \n",
      "2            NaN          NaN         1  \n",
      "3      91.272727         11.0         0  \n",
      "4     140.529412         17.0         0  \n",
      "..           ...          ...       ...  \n",
      "361    71.400000         10.0         1  \n",
      "362  -177.000000          9.0         0  \n",
      "363  -142.000000          9.0         1  \n",
      "364   172.888889          9.0         0  \n",
      "365  -292.555556          9.0         1  \n",
      "\n",
      "[366 rows x 153 columns]\n"
     ]
    },
    {
     "name": "stdout",
     "output_type": "stream",
     "text": [
      "(366, 152)\n",
      "(0, 152)\n"
     ]
    }
   ],
   "source": [
    "input_vars = dat.columns.to_list()\n",
    "training_dat = dat[input_vars]\n",
    "# thinned out dataset actually substantially worse at predicting than the full one is\n",
    "# training_dat = dat\n",
    "print(training_dat)\n",
    "\n",
    "# split test and training data\n",
    "test_dat = training_dat.sample(frac = 0)\n",
    "training_dat = training_dat.drop(test_dat.index)\n",
    "\n",
    "# setting up for xgboost\n",
    "training_label = training_dat[\"WinAsInt\"]\n",
    "training_dat = training_dat.drop(axis = 1, labels = \"WinAsInt\")\n",
    "test_label = test_dat[\"WinAsInt\"]\n",
    "test_dat = test_dat.drop(axis = 1, labels = \"WinAsInt\")\n",
    "\n",
    "dtrain = xgb.DMatrix(data = training_dat, label = training_label)\n",
    "dtest = xgb.DMatrix(data = test_dat, label = test_label)\n",
    "\n",
    "print(training_dat.shape)\n",
    "print(test_dat.shape)"
   ]
  },
  {
   "cell_type": "code",
   "execution_count": 51,
   "metadata": {},
   "outputs": [
    {
     "name": "stdout",
     "output_type": "stream",
     "text": [
      "[0]\ttrain-auc:0.69237\ttest-auc:nan\n",
      "[1]\ttrain-auc:0.71029\ttest-auc:nan\n",
      "[2]\ttrain-auc:0.74841\ttest-auc:nan\n",
      "[3]\ttrain-auc:0.76300\ttest-auc:nan\n",
      "[4]\ttrain-auc:0.77527\ttest-auc:nan\n",
      "[5]\ttrain-auc:0.78598\ttest-auc:nan\n",
      "[6]\ttrain-auc:0.79742\ttest-auc:nan\n",
      "[7]\ttrain-auc:0.80023\ttest-auc:nan\n",
      "[8]\ttrain-auc:0.80449\ttest-auc:nan\n",
      "[9]\ttrain-auc:0.80986\ttest-auc:nan\n",
      "[10]\ttrain-auc:0.81468\ttest-auc:nan\n",
      "[11]\ttrain-auc:0.81834\ttest-auc:nan\n",
      "[12]\ttrain-auc:0.82362\ttest-auc:nan\n",
      "[13]\ttrain-auc:0.82832\ttest-auc:nan\n",
      "[14]\ttrain-auc:0.82917\ttest-auc:nan\n",
      "[15]\ttrain-auc:0.83412\ttest-auc:nan\n",
      "[16]\ttrain-auc:0.83691\ttest-auc:nan\n",
      "[17]\ttrain-auc:0.84106\ttest-auc:nan\n",
      "[18]\ttrain-auc:0.84392\ttest-auc:nan\n",
      "[19]\ttrain-auc:0.84750\ttest-auc:nan\n",
      "[20]\ttrain-auc:0.85005\ttest-auc:nan\n",
      "[21]\ttrain-auc:0.85199\ttest-auc:nan\n",
      "[22]\ttrain-auc:0.85675\ttest-auc:nan\n",
      "[23]\ttrain-auc:0.85933\ttest-auc:nan\n",
      "[24]\ttrain-auc:0.86200\ttest-auc:nan\n",
      "[25]\ttrain-auc:0.86485\ttest-auc:nan\n",
      "[26]\ttrain-auc:0.86643\ttest-auc:nan\n",
      "[27]\ttrain-auc:0.86785\ttest-auc:nan\n",
      "[28]\ttrain-auc:0.86968\ttest-auc:nan\n",
      "[29]\ttrain-auc:0.87125\ttest-auc:nan\n"
     ]
    },
    {
     "name": "stderr",
     "output_type": "stream",
     "text": [
      "c:\\Users\\carte\\AppData\\Local\\Programs\\Python\\Python311\\Lib\\site-packages\\xgboost\\core.py:727: FutureWarning: Pass `evals` as keyword args.\n",
      "  warnings.warn(msg, FutureWarning)\n",
      "c:\\Users\\carte\\AppData\\Local\\Programs\\Python\\Python311\\Lib\\site-packages\\xgboost\\core.py:160: UserWarning: [22:19:35] WARNING: C:\\buildkite-agent\\builds\\buildkite-windows-cpu-autoscaling-group-i-0b3782d1791676daf-1\\xgboost\\xgboost-ci-windows\\src\\metric\\auc.cc:320: Dataset is empty, or contains only positive or negative samples.\n",
      "  warnings.warn(smsg, UserWarning)\n"
     ]
    }
   ],
   "source": [
    "param = {'max_depth': 2, 'eta': 0.1, 'objective': 'binary:logistic'}\n",
    "param['eval_metric'] = 'auc'\n",
    "\n",
    "num_round = 30\n",
    "evallist = [(dtrain, \"train\"), (dtest, \"test\")]\n",
    "bst = xgb.train(param, dtrain, num_round, evallist)"
   ]
  },
  {
   "cell_type": "code",
   "execution_count": 52,
   "metadata": {},
   "outputs": [
    {
     "name": "stdout",
     "output_type": "stream",
     "text": [
      "           B_Team         R_Team  Small Model Scores (0.13)  \\\n",
      "0   Team Vitality  Team Heretics                   0.633670   \n",
      "1          Fnatic          Rogue                   0.651725   \n",
      "2        Team BDS     G2 Esports                   0.640879   \n",
      "3    Karmine Corp         GIANTX                   0.586876   \n",
      "4   MAD Lions KOI      SK Gaming                   0.668630   \n",
      "5   Team Vitality       Team BDS                   0.526131   \n",
      "6   Team Heretics          Rogue                   0.628600   \n",
      "7          Fnatic   Karmine Corp                   0.628128   \n",
      "8          GIANTX      SK Gaming                   0.611577   \n",
      "9   MAD Lions KOI     G2 Esports                   0.518184   \n",
      "10          Rogue       Team BDS                   0.447782   \n",
      "11      SK Gaming  Team Vitality                   0.549669   \n",
      "12         GIANTX  MAD Lions KOI                   0.504997   \n",
      "13  Team Heretics         Fnatic                   0.537114   \n",
      "14     G2 Esports   Karmine Corp                   0.628128   \n",
      "15      SK Gaming       Team BDS                   0.472111   \n",
      "16         GIANTX         Fnatic                   0.537114   \n",
      "17     G2 Esports  Team Heretics                   0.633670   \n",
      "18  MAD Lions KOI  Team Vitality                   0.582716   \n",
      "19   Karmine Corp          Rogue                   0.609508   \n",
      "20         GIANTX       Team BDS                   0.537114   \n",
      "21          Rogue  Team Vitality                   0.557274   \n",
      "22  MAD Lions KOI   Karmine Corp                   0.645447   \n",
      "23  Team Heretics      SK Gaming                   0.633830   \n",
      "24         Fnatic     G2 Esports                   0.560285   \n",
      "25       Team BDS  Team Heretics                   0.712160   \n",
      "26  Team Vitality         Fnatic                   0.526131   \n",
      "27     G2 Esports         GIANTX                   0.633670   \n",
      "28          Rogue  MAD Lions KOI                   0.499457   \n",
      "29      SK Gaming   Karmine Corp                   0.556603   \n",
      "\n",
      "    Med Model Scores (0.1)  Full Model Scores  \n",
      "0                 0.660272           0.677950  \n",
      "1                 0.704924           0.694799  \n",
      "2                 0.610929           0.580604  \n",
      "3                 0.736701           0.735980  \n",
      "4                 0.765355           0.684437  \n",
      "5                 0.588428           0.538527  \n",
      "6                 0.500913           0.529628  \n",
      "7                 0.658305           0.611992  \n",
      "8                 0.560043           0.402661  \n",
      "9                 0.614412           0.682166  \n",
      "10                0.423960           0.549159  \n",
      "11                0.428221           0.573100  \n",
      "12                0.492785           0.462348  \n",
      "13                0.337037           0.274879  \n",
      "14                0.727089           0.650997  \n",
      "15                0.419746           0.449632  \n",
      "16                0.394785           0.328124  \n",
      "17                0.739588           0.720329  \n",
      "18                0.718468           0.744691  \n",
      "19                0.691132           0.640661  \n",
      "20                0.398897           0.364341  \n",
      "21                0.507548           0.578790  \n",
      "22                0.759243           0.620175  \n",
      "23                0.448230           0.381799  \n",
      "24                0.570187           0.648833  \n",
      "25                0.707428           0.679799  \n",
      "26                0.523895           0.426950  \n",
      "27                0.755838           0.773735  \n",
      "28                0.486382           0.566129  \n",
      "29                0.530699           0.497345  \n"
     ]
    }
   ],
   "source": [
    "prediction_data = pd.read_csv(\"MLData/LEC_2023_Spring_Test.csv\")\n",
    "# teams = prediction_data[[\"B_Team\", \"R_Team\"]]\n",
    "prediction_data = prediction_data.drop(axis = 1, labels = [\"B_Team\", \"R_Team\"])\n",
    "\n",
    "input_vars.remove(\"WinAsInt\")\n",
    "\n",
    "prediction_data = prediction_data[input_vars]\n",
    "\n",
    "dpred = xgb.DMatrix(prediction_data)\n",
    "\n",
    "scores = bst.predict(dpred)\n",
    "teams[\"Full Model Scores\"] = scores\n",
    "\n",
    "print(teams)"
   ]
  },
  {
   "cell_type": "code",
   "execution_count": 53,
   "metadata": {},
   "outputs": [],
   "source": [
    "teams.to_csv(\"predictions/shitModel.csv\")"
   ]
  }
 ],
 "metadata": {
  "kernelspec": {
   "display_name": "Python 3",
   "language": "python",
   "name": "python3"
  },
  "language_info": {
   "codemirror_mode": {
    "name": "ipython",
    "version": 3
   },
   "file_extension": ".py",
   "mimetype": "text/x-python",
   "name": "python",
   "nbconvert_exporter": "python",
   "pygments_lexer": "ipython3",
   "version": "3.11.0"
  }
 },
 "nbformat": 4,
 "nbformat_minor": 2
}
