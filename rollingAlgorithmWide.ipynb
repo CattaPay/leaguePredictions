{
 "cells": [
  {
   "cell_type": "code",
   "execution_count": null,
   "metadata": {},
   "outputs": [],
   "source": [
    "import pandas as pd\n",
    "import numpy as np\n",
    "import xgboost as xgb\n",
    "import matplotlib.pyplot as plt"
   ]
  },
  {
   "cell_type": "code",
   "execution_count": null,
   "metadata": {},
   "outputs": [],
   "source": [
    "training_data = pd.read_csv(\"combineddata/training.csv\").drop([\"Team\"], axis = 1)\n",
    "print(training_data.shape)\n",
    "training_data = training_data\n"
   ]
  },
  {
   "cell_type": "code",
   "execution_count": null,
   "metadata": {},
   "outputs": [],
   "source": [
    "print(training_data.columns)\n",
    "\n",
    "wide_training = pd.concat([training_data[training_data[\"Side\"] == \"Blue\"].reset_index(drop = True), training_data[training_data[\"Side\"] == \"Red\"].reset_index(drop = True)], axis = 1)\n",
    "\n",
    "print(wide_training)"
   ]
  },
  {
   "cell_type": "code",
   "execution_count": null,
   "metadata": {},
   "outputs": [],
   "source": [
    "\n",
    "blue_cols = []\n",
    "red_cols = []\n",
    "for col in training_data.columns:\n",
    "    blue_cols.append(\"B_\" + col)\n",
    "    red_cols.append(\"R_\" + col)\n",
    "\n",
    "wide_training.columns = blue_cols + red_cols\n",
    "print(training_data.columns)\n",
    "wide_training = wide_training.drop([\"R_Winner\", \"R_Side\", \"B_Side\", \"R_Tournament\", \"B_Tournament\", \"R_Match_Number\", \"B_Match_Number\", \"B_Season\", \"R_Season\"], axis = 1)\n",
    "print(wide_training.shape)\n"
   ]
  },
  {
   "cell_type": "code",
   "execution_count": null,
   "metadata": {},
   "outputs": [],
   "source": [
    "test_data = pd.read_csv(\"combineddata/test.csv\")\n",
    "wide_test = pd.concat([test_data[test_data[\"Side\"] == \"Blue\"].reset_index(drop = True), test_data[test_data[\"Side\"] == \"Red\"].reset_index(drop = True)], axis = 1)\n",
    "blue_cols = []\n",
    "red_cols = []\n",
    "for col in test_data.columns:\n",
    "    blue_cols.append(\"B_\" + col)\n",
    "    red_cols.append(\"R_\" + col)\n",
    "\n",
    "wide_test.columns = blue_cols + red_cols\n",
    "print(test_data.columns)\n",
    "wide_test = wide_test.drop([\"R_Winner\", \"R_Side\", \"B_Side\"], axis = 1)\n",
    "print(wide_test.shape)\n"
   ]
  },
  {
   "cell_type": "code",
   "execution_count": null,
   "metadata": {},
   "outputs": [],
   "source": [
    "# setting up for xgboost\n",
    "training_label = wide_training[\"B_Winner\"]\n",
    "training_dat = wide_training.drop(axis = 1, labels = \"B_Winner\")\n",
    "test_label = wide_test[\"B_Winner\"]\n",
    "test_dat = wide_test.drop(axis = 1, labels = [\"B_Winner\", \"B_Team\", \"R_Team\", \"B_Tournament\", \"R_Tournament\", \"B_Match_Number\", \"R_Match_Number\", \"B_Season\", \"R_Season\"])\n",
    "\n",
    "dtrain = xgb.DMatrix(data = training_dat, label = training_label)\n",
    "dtest = xgb.DMatrix(data = test_dat, label = test_label)\n",
    "\n",
    "print(training_dat.shape)\n",
    "print(test_dat.shape)"
   ]
  },
  {
   "cell_type": "code",
   "execution_count": null,
   "metadata": {},
   "outputs": [],
   "source": [
    "param = {'max_depth': 3, 'learning_rate': 0.03, 'objective': 'binary:logistic',\n",
    "         'alpha': 0.4, 'subsample': 0.8, 'colsample_bynode': 0.5, 'colsample_bytree': 0.5,\n",
    "         'num_parallel_tree': 100, 'gamma': 0.2}\n",
    "param['eval_metric'] = 'error'\n",
    "\n",
    "num_round = 145\n",
    "evallist = [(dtrain, \"train\"), (dtest, \"test\")]\n",
    "bst = xgb.train(param, dtrain, num_round, evallist, num_boost_round = 1)"
   ]
  },
  {
   "cell_type": "code",
   "execution_count": null,
   "metadata": {},
   "outputs": [],
   "source": [
    "xgb.plot_importance(bst)"
   ]
  },
  {
   "cell_type": "code",
   "execution_count": null,
   "metadata": {},
   "outputs": [],
   "source": [
    "predictions = wide_test[[\"B_Season\", \"B_Tournament\", \"B_Team\", \"R_Team\", \"B_Match_Number\", \"B_Winner\"]]\n",
    "predictions.columns = [\"Season\", \"Tournament\", \"Blue\", \"Red\", \"Match_Number\", \"Blue_Win\"]\n",
    "predictions[\"Prediction\"] = bst.predict(dtest)\n",
    "predictions[\"Correct\"] = predictions.apply(lambda row: int(abs(row.Blue_Win - row.Prediction) < 0.5), axis = 1)\n",
    "\n",
    "print(predictions)"
   ]
  },
  {
   "cell_type": "code",
   "execution_count": null,
   "metadata": {},
   "outputs": [],
   "source": [
    "summary = pd.DataFrame()\n",
    "\n",
    "summary = pd.concat([summary, predictions[[\"Season\", \"Correct\"]].groupby(\"Season\").count()])\n",
    "\n",
    "summary = pd.concat([summary, predictions[[\"Season\", \"Correct\"]].groupby(\"Season\").mean()], axis = 1)\n",
    "summary = pd.concat([summary, predictions[[\"Season\", \"Correct\"]].groupby(\"Season\").sum()], axis = 1)\n",
    "\n",
    "summary = summary.reset_index()\n",
    "summary.columns = [\"Season\", \"Games\", \"Accuracy\", \"Correct\"]\n",
    "#summary = pd.concat([summary, predictions[[\"Tournament\", \"Correct\"]].groupby(\"Tournament\").count().reset_index()])\n",
    "\n",
    "\n",
    "summary\n"
   ]
  },
  {
   "cell_type": "code",
   "execution_count": null,
   "metadata": {},
   "outputs": [],
   "source": [
    "summary = pd.DataFrame()\n",
    "\n",
    "summary = pd.concat([summary, predictions[[\"Tournament\", \"Correct\"]].groupby(\"Tournament\").count()])\n",
    "\n",
    "summary = pd.concat([summary, predictions[[\"Tournament\", \"Correct\"]].groupby(\"Tournament\").mean()], axis = 1)\n",
    "summary = pd.concat([summary, predictions[[\"Tournament\", \"Correct\"]].groupby(\"Tournament\").sum()], axis = 1)\n",
    "\n",
    "summary = summary.reset_index()\n",
    "summary.columns = [\"Tournament\", \"Games\", \"Accuracy\", \"Correct\"]\n",
    "#summary = pd.concat([summary, predictions[[\"Tournament\", \"Correct\"]].groupby(\"Tournament\").count().reset_index()])\n",
    "\n",
    "summary"
   ]
  },
  {
   "cell_type": "code",
   "execution_count": null,
   "metadata": {},
   "outputs": [],
   "source": [
    "\n",
    "match_predictions = pd.concat([predictions.groupby([\"Tournament\", \"Match_Number\"]).count()[\"Prediction\"],predictions.groupby([\"Tournament\", \"Match_Number\"]).sum()[[\"Correct\", \"Blue_Win\"]]], axis = 1)\n",
    "# match_predictions = pd.concat([match_predictions, predictions.drop([\"Blue\", \"Red\"], axis = 1).groupby([\"Tournament\", \"Match_Number\"]).mean()[\"Prediction\"]], axis = 1)\n",
    "match_predictions[\"Match_Correct\"] = match_predictions.apply(lambda row: int(row.Correct > row.Prediction / 2), axis = 1)\n",
    "\n",
    "# predictions[predictions[\"Match_Number\"] == 199]\n",
    "\n",
    "match_predictions = match_predictions.reset_index()\n",
    "\n",
    "\n"
   ]
  },
  {
   "cell_type": "code",
   "execution_count": null,
   "metadata": {},
   "outputs": [],
   "source": [
    "summary = pd.DataFrame()\n",
    "\n",
    "summary = pd.concat([summary, match_predictions[[\"Tournament\", \"Match_Correct\"]].groupby(\"Tournament\").count()])\n",
    "\n",
    "summary = pd.concat([summary, match_predictions[[\"Tournament\", \"Match_Correct\"]].groupby(\"Tournament\").mean()], axis = 1)\n",
    "summary = pd.concat([summary, match_predictions[[\"Tournament\", \"Match_Correct\"]].groupby(\"Tournament\").sum()], axis = 1)\n",
    "\n",
    "summary = summary.reset_index()\n",
    "summary.columns = [\"Tournament\", \"Games\", \"Accuracy\", \"Correct\"]\n",
    "#summary = pd.concat([summary, predictions[[\"Tournament\", \"Correct\"]].groupby(\"Tournament\").count().reset_index()])\n",
    "summary"
   ]
  },
  {
   "cell_type": "code",
   "execution_count": null,
   "metadata": {},
   "outputs": [],
   "source": [
    "# \n",
    "bst.save_model(\"models/6_4nominortwoyears.json\")"
   ]
  }
 ],
 "metadata": {
  "kernelspec": {
   "display_name": "Python 3",
   "language": "python",
   "name": "python3"
  },
  "language_info": {
   "codemirror_mode": {
    "name": "ipython",
    "version": 3
   },
   "file_extension": ".py",
   "mimetype": "text/x-python",
   "name": "python",
   "nbconvert_exporter": "python",
   "pygments_lexer": "ipython3",
   "version": "3.11.0"
  }
 },
 "nbformat": 4,
 "nbformat_minor": 2
}
