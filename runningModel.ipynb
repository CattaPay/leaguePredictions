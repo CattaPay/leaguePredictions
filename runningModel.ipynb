{
 "cells": [
  {
   "cell_type": "code",
   "execution_count": 1,
   "metadata": {},
   "outputs": [],
   "source": [
    "import pandas as pd\n",
    "import numpy as np"
   ]
  },
  {
   "cell_type": "code",
   "execution_count": 2,
   "metadata": {},
   "outputs": [],
   "source": [
    "# defining betting related functions\n",
    "def seriesOdds(team1Blue, team2Blue, best_of):\n",
    "    if best_of == 1:\n",
    "        return max(team1Blue, team2Blue)\n",
    "    if best_of == 3:\n",
    "        a = max(team1Blue, 1-team2Blue)\n",
    "        b = max(1-team1Blue, team2Blue)\n",
    "        return a * (1-b) + a * a * b + a * (1-a) * (1-b)\n",
    "    if best_of == 5:\n",
    "        a = max(team1Blue, 1-team2Blue)\n",
    "        b = max(1-team1Blue, team2Blue)\n",
    "        p1 = a * (1-b) * (1-b)\n",
    "        p2 = 2*a*a*b*(1-b) + a*(1-a)*(1-b)*(1-b)\n",
    "        p3 = a*a*a*b*b + 4*a*a*b*(1-a)*(1-b) + a*(1-a)*(1-a)*(1-b)*(1-b)\n",
    "        return p1 + p2 + p3\n",
    "\n",
    "# -1 for red, 1 for blue, 0 for neither\n",
    "def betByOdds(predictions, blue_odds, red_odds, threshold = 0):\n",
    "    blue_threshold = 1 / blue_odds\n",
    "    red_threshold = 1 / red_odds\n",
    "\n",
    "    if predictions > 0.5:\n",
    "        if predictions > blue_threshold + threshold:\n",
    "            return 1\n",
    "        return 0\n",
    "\n",
    "def oddsConverter(odds):\n",
    "    if odds < 0:\n",
    "        return (100 - odds) / -odds\n",
    "    else:\n",
    "        return (100 + odds) / 100"
   ]
  },
  {
   "cell_type": "code",
   "execution_count": 3,
   "metadata": {},
   "outputs": [
    {
     "data": {
      "text/html": [
       "<div>\n",
       "<style scoped>\n",
       "    .dataframe tbody tr th:only-of-type {\n",
       "        vertical-align: middle;\n",
       "    }\n",
       "\n",
       "    .dataframe tbody tr th {\n",
       "        vertical-align: top;\n",
       "    }\n",
       "\n",
       "    .dataframe thead th {\n",
       "        text-align: right;\n",
       "    }\n",
       "</style>\n",
       "<table border=\"1\" class=\"dataframe\">\n",
       "  <thead>\n",
       "    <tr style=\"text-align: right;\">\n",
       "      <th></th>\n",
       "      <th>Blue</th>\n",
       "      <th>Red</th>\n",
       "      <th>Prediction</th>\n",
       "    </tr>\n",
       "  </thead>\n",
       "  <tbody>\n",
       "    <tr>\n",
       "      <th>0</th>\n",
       "      <td>Dplus KIA</td>\n",
       "      <td>FearX</td>\n",
       "      <td>0.655669</td>\n",
       "    </tr>\n",
       "    <tr>\n",
       "      <th>1</th>\n",
       "      <td>T1</td>\n",
       "      <td>KT Rolster</td>\n",
       "      <td>0.652232</td>\n",
       "    </tr>\n",
       "  </tbody>\n",
       "</table>\n",
       "</div>"
      ],
      "text/plain": [
       "        Blue         Red  Prediction\n",
       "0  Dplus KIA       FearX    0.655669\n",
       "1         T1  KT Rolster    0.652232"
      ]
     },
     "execution_count": 3,
     "metadata": {},
     "output_type": "execute_result"
    }
   ],
   "source": [
    "predictions = pd.read_csv(\"predictions/lck_summer_2024.csv\")\n",
    "predictions\n"
   ]
  },
  {
   "cell_type": "code",
   "execution_count": 4,
   "metadata": {},
   "outputs": [],
   "source": [
    "odds = pd.DataFrame(data = [[1.15,5],\n",
    "                            [1.31,3.25]], columns = [\"Blue_Odds\", \"Red_Odds\"])"
   ]
  },
  {
   "cell_type": "code",
   "execution_count": 5,
   "metadata": {},
   "outputs": [],
   "source": [
    "predictionOdds = pd.concat([predictions, odds], axis = 1)\n"
   ]
  },
  {
   "cell_type": "code",
   "execution_count": 6,
   "metadata": {},
   "outputs": [
    {
     "data": {
      "text/html": [
       "<div>\n",
       "<style scoped>\n",
       "    .dataframe tbody tr th:only-of-type {\n",
       "        vertical-align: middle;\n",
       "    }\n",
       "\n",
       "    .dataframe tbody tr th {\n",
       "        vertical-align: top;\n",
       "    }\n",
       "\n",
       "    .dataframe thead th {\n",
       "        text-align: right;\n",
       "    }\n",
       "</style>\n",
       "<table border=\"1\" class=\"dataframe\">\n",
       "  <thead>\n",
       "    <tr style=\"text-align: right;\">\n",
       "      <th></th>\n",
       "      <th>Blue</th>\n",
       "      <th>Red</th>\n",
       "      <th>Prediction</th>\n",
       "      <th>Blue_Odds</th>\n",
       "      <th>Red_Odds</th>\n",
       "      <th>To_Bet</th>\n",
       "    </tr>\n",
       "  </thead>\n",
       "  <tbody>\n",
       "    <tr>\n",
       "      <th>0</th>\n",
       "      <td>Dplus KIA</td>\n",
       "      <td>FearX</td>\n",
       "      <td>0.655669</td>\n",
       "      <td>1.15</td>\n",
       "      <td>5.00</td>\n",
       "      <td>True</td>\n",
       "    </tr>\n",
       "    <tr>\n",
       "      <th>1</th>\n",
       "      <td>T1</td>\n",
       "      <td>KT Rolster</td>\n",
       "      <td>0.652232</td>\n",
       "      <td>1.31</td>\n",
       "      <td>3.25</td>\n",
       "      <td>True</td>\n",
       "    </tr>\n",
       "  </tbody>\n",
       "</table>\n",
       "</div>"
      ],
      "text/plain": [
       "        Blue         Red  Prediction  Blue_Odds  Red_Odds  To_Bet\n",
       "0  Dplus KIA       FearX    0.655669       1.15      5.00    True\n",
       "1         T1  KT Rolster    0.652232       1.31      3.25    True"
      ]
     },
     "execution_count": 6,
     "metadata": {},
     "output_type": "execute_result"
    }
   ],
   "source": [
    "threshold = 0.15\n",
    "minodds = 1.05\n",
    "\n",
    "predictionOdds[\"To_Bet\"] = predictionOdds.apply(lambda row: abs(row.Prediction - 0.5) > threshold and min(row.Blue_Odds, row.Red_Odds) > minodds, axis = 1)\n",
    "predictionOdds\n"
   ]
  },
  {
   "cell_type": "code",
   "execution_count": 7,
   "metadata": {},
   "outputs": [],
   "source": [
    "predictionOdds.to_csv(\"predictions/lck_summer_bets.csv\")"
   ]
  }
 ],
 "metadata": {
  "kernelspec": {
   "display_name": "Python 3",
   "language": "python",
   "name": "python3"
  },
  "language_info": {
   "codemirror_mode": {
    "name": "ipython",
    "version": 3
   },
   "file_extension": ".py",
   "mimetype": "text/x-python",
   "name": "python",
   "nbconvert_exporter": "python",
   "pygments_lexer": "ipython3",
   "version": "3.11.0"
  }
 },
 "nbformat": 4,
 "nbformat_minor": 2
}
